{
 "cells": [
  {
   "cell_type": "markdown",
   "metadata": {},
   "source": [
    "# WeatherPy\n",
    "----\n",
    "\n",
    "#### Note\n",
    "* Instructions have been included for each segment. You do not have to follow them exactly, but they are included to help you think through the steps."
   ]
  },
  {
   "cell_type": "code",
   "execution_count": 47,
   "metadata": {
    "scrolled": false
   },
   "outputs": [],
   "source": [
    "# Import dependencies (there are a lot), including new citipy referenced in instructions\n",
    "import matplotlib.pyplot as plt\n",
    "import requests\n",
    "import json\n",
    "import pandas as pd\n",
    "import numpy as np\n",
    "import scipy.stats as st\n",
    "from api_keys import weather_api_key\n",
    "from scipy.stats import linregress\n",
    "from pprint import pprint\n",
    "from citipy import citipy\n"
   ]
  },
  {
   "cell_type": "markdown",
   "metadata": {},
   "source": [
    "## Generate Cities List"
   ]
  },
  {
   "cell_type": "code",
   "execution_count": 48,
   "metadata": {},
   "outputs": [
    {
     "name": "stdout",
     "output_type": "stream",
     "text": [
      "yazoo city\n",
      "us\n"
     ]
    }
   ],
   "source": [
    "# Test citipy based on instructions found while googling\n",
    "city_test = citipy.nearest_city(32.99, -90.21)\n",
    "print(city_test.city_name)\n",
    "print(city_test.country_code)"
   ]
  },
  {
   "cell_type": "code",
   "execution_count": 115,
   "metadata": {},
   "outputs": [
    {
     "name": "stdout",
     "output_type": "stream",
     "text": [
      "0    600\n",
      "dtype: int64\n",
      "0    600\n",
      "dtype: int64\n"
     ]
    },
    {
     "data": {
      "text/html": [
       "<div>\n",
       "<style scoped>\n",
       "    .dataframe tbody tr th:only-of-type {\n",
       "        vertical-align: middle;\n",
       "    }\n",
       "\n",
       "    .dataframe tbody tr th {\n",
       "        vertical-align: top;\n",
       "    }\n",
       "\n",
       "    .dataframe thead th {\n",
       "        text-align: right;\n",
       "    }\n",
       "</style>\n",
       "<table border=\"1\" class=\"dataframe\">\n",
       "  <thead>\n",
       "    <tr style=\"text-align: right;\">\n",
       "      <th></th>\n",
       "      <th>0</th>\n",
       "      <th>1</th>\n",
       "    </tr>\n",
       "  </thead>\n",
       "  <tbody>\n",
       "    <tr>\n",
       "      <th>0</th>\n",
       "      <td>54.6</td>\n",
       "      <td>-35.6</td>\n",
       "    </tr>\n",
       "    <tr>\n",
       "      <th>1</th>\n",
       "      <td>-11.6</td>\n",
       "      <td>-20.8</td>\n",
       "    </tr>\n",
       "    <tr>\n",
       "      <th>2</th>\n",
       "      <td>-6.4</td>\n",
       "      <td>-21.2</td>\n",
       "    </tr>\n",
       "    <tr>\n",
       "      <th>3</th>\n",
       "      <td>85.4</td>\n",
       "      <td>-68.6</td>\n",
       "    </tr>\n",
       "    <tr>\n",
       "      <th>4</th>\n",
       "      <td>-71.1</td>\n",
       "      <td>6.6</td>\n",
       "    </tr>\n",
       "  </tbody>\n",
       "</table>\n",
       "</div>"
      ],
      "text/plain": [
       "      0     1\n",
       "0  54.6 -35.6\n",
       "1 -11.6 -20.8\n",
       "2  -6.4 -21.2\n",
       "3  85.4 -68.6\n",
       "4 -71.1   6.6"
      ]
     },
     "execution_count": 115,
     "metadata": {},
     "output_type": "execute_result"
    }
   ],
   "source": [
    "# Need a list of 500 random cities based on GPS coordinates\n",
    "# Lat is -90 to 90\n",
    "# Lon is -180 to 180\n",
    "\n",
    "# Set up lists of 500 unique lats and longs\n",
    "lat_set = pd.DataFrame(np.arange(-90,90,0.1))\n",
    "lon_set = pd.DataFrame(np.arange(-180,180,0.2))\n",
    "\n",
    "lats = lat_set.sample(600)\n",
    "lons = lon_set.sample(600)\n",
    "\n",
    "# Check to make sure all unique\n",
    "print(lats.nunique())\n",
    "print(lons.nunique())\n",
    "\n",
    "# Combine into one df\n",
    "coordinates = list(zip(lats[0],lons[0]))\n",
    "coordinates_df = pd.DataFrame(coordinates)\n",
    "coordinates_df.head()"
   ]
  },
  {
   "cell_type": "code",
   "execution_count": 116,
   "metadata": {},
   "outputs": [
    {
     "name": "stdout",
     "output_type": "stream",
     "text": [
      "['nanortalik', 'georgetown', 'georgetown', 'qaanaaq', 'hermanus', 'nanortalik', 'lukovetskiy', 'thompson', 'busselton', 'ushuaia', 'cape town', 'padang', 'birao', 'dingle', 'sistranda', 'tiksi', 'mataura', 'requena', 'samusu', 'makakilo city', 'vaini', 'new norfolk', 'quang ngai', 'sao miguel do tapuio', 'hithadhoo', 'eydhafushi', 'ushuaia', 'buin', 'thompson', 'rikitea', 'hobart', 'hilo', 'puerto ayora', 'belushya guba', 'bay roberts', 'kapaa', 'ushuaia', 'margate', 'smithers', 'coihaique', 'kodiak', 'illoqqortoormiut', 'bethel', 'khatanga', 'hellvik', 'busselton', 'nome', 'grindavik', 'airai', 'codrington', 'port alfred', 'nouadhibou', 'abha', 'chokurdakh', 'hasaki', 'catuday', 'cape town', 'chokurdakh', 'port elizabeth', 'pevek', 'rikitea', 'fort nelson', 'tuktoyaktuk', 'ushuaia', 'gao', 'punta arenas', 'port alfred', 'bluff', 'saint george', 'kaniama', 'severo-kurilsk', 'sola', 'mataura', 'hilo', 'yellowknife', 'comrie', 'atuona', 'swan river', 'pokhara', 'tondela', 'nikolskoye', 'jamestown', 'mataura', 'illoqqortoormiut', 'sorland', 'punta arenas', 'baker city', 'albany', 'aldan', 'luwuk', 'jamestown', 'east london', 'saleaula', 'kilgore', 'marsh harbour', 'jinchengjiang', 'ushuaia', 'naze', 'busselton', 'chuy', 'morro agudo', 'chuy', 'kiunga', 'whitehorse', 'beringovskiy', 'ushuaia', 'bluff', 'ushuaia', 'dubenskiy', 'zalantun', 'norman wells', 'yellowknife', 'chifeng', 'port blair', 'belushya guba', 'thompson', 'ketchikan', 'hervey bay', 'georgetown', 'carnarvon', 'jiddah', 'mataura', 'hithadhoo', 'krasnoselkup', 'lethem', 'taltal', 'mataura', 'barentsburg', 'pyay', 'albany', 'sur', 'vardo', 'luderitz', 'ushuaia', 'east london', 'albany', 'punta arenas', 'ushuaia', 'pirgos', 'nikolskoye', 'khandyga', 'severo-kurilsk', 'rikitea', 'nikolskoye', 'avarua', 'jawar', 'sisimiut', 'mataura', 'georgetown', 'honningsvag', 'albany', 'hobart', 'east london', 'wewak', 'mataura', 'dikson', 'punta arenas', 'atuona', 'ratnagiri', 'kodiak', 'bredasdorp', 'barrow', 'te anau', 'pinar del rio', 'rikitea', 'belushya guba', 'avarua', 'puerto ayora', 'kamenskoye', 'dujuma', 'cape town', 'le portel', 'elizabeth city', 'ondjiva', 'vaini', 'arraial do cabo', 'galgani', 'opuwo', 'sioux lookout', 'bluff', 'mataura', 'providencia', 'punta arenas', 'thompson', 'east london', 'rocha', 'egvekinot', 'hobart', 'samarai', 'khatanga', 'busselton', 'peniche', 'longyearbyen', 'vaini', 'east london', 'castro', 'noyabrsk', 'vardo', 'cabo san lucas', 'vaini', 'raudeberg', 'saskylakh', 'comodoro rivadavia', 'te anau', 'new norfolk', 'avarua', 'albany', 'hermanus', 'saskylakh', 'georgetown', 'kapaa', 'tuatapere', 'sentyabrskiy', 'necochea', 'carnarvon', 'busselton', 'saldanha', 'saint-philippe', 'bubaque', 'the valley', 'collie', 'butaritari', 'taolanaro', 'rikitea', 'taburi', 'mys shmidta', 'sete', 'atar', 'sabang', 'san jose', 'cabo san lucas', 'port lavaca', 'port elizabeth', 'albany', 'hermanus', 'atuona', 'ankang', 'hobart', 'kruisfontein', 'hermanus', 'rikitea', 'hermanus', 'barrow', 'general pico', 'imuris', 'punta arenas', 'puerto ayora', 'cherskiy', 'taolanaro', 'aleksandrov gay', 'kegayli', 'chuy', 'luderitz', 'turbat', 'lufilufi', 'kirakira', 'avarua', 'punta arenas', 'tuktoyaktuk', 'atuona', 'tiarei', 'alofi', 'ponta do sol', 'rawannawi', 'tsihombe', 'quatre cocos', 'hilo', 'flinders', 'hermanus', 'hermanus', 'samana', 'vestmannaeyjar', 'vaini', 'mar del plata', 'ribeira grande', 'kapaa', 'longyearbyen', 'rikitea', 'port alfred', 'tuktoyaktuk', 'mataura', 'saldanha', 'punta arenas', 'tasiilaq', 'guerrero negro', 'busselton', 'yabelo', 'vaini', 'bambous virieux', 'sao filipe', 'namatanai', 'zhuanghe', 'attawapiskat', 'khatanga', 'sogne', 'amapa', 'rawson', 'punta arenas', 'bambous virieux', 'busselton', 'yellowknife', 'yellowknife', 'namatanai', 'olafsvik', 'lalin', 'beringovskiy', 'guerrero negro', 'brae', 'mitsamiouli', 'fort nelson', 'yellowknife', 'grand river south east', 'hermanus', 'rikitea', 'rikitea', 'westport', 'kapaa', 'lahad datu', 'belushya guba', 'belushya guba', 'hofn', 'torbay', 'resistencia', 'saint-philippe', 'qaanaaq', 'nazas', 'nefteyugansk', 'aripuana', 'saint george', 'alushta', 'georgetown', 'kapaa', 'solenzo', 'namibe', 'zhanaozen', 'vaini', 'vaitupu', 'mahebourg', 'pimentel', 'mataura', 'katsuura', 'dingle', 'hobart', 'mataura', 'tuktoyaktuk', 'yeppoon', 'airai', 'mount gambier', 'santa cruz', 'saskylakh', 'markivka', 'thompson', 'athabasca', 'saskylakh', 'kabo', 'mataura', 'busselton', 'krasnoselkup', 'batemans bay', 'luderitz', 'berlevag', 'leningradskiy', 'awbari', 'mataura', 'kapaa', 'chuy', 'margate', 'hithadhoo', 'mlyniv', 'de aar', 'sur', 'puerto ayora', 'thompson', 'kruisfontein', 'illoqqortoormiut', 'bluff', 'milkovo', 'ribeira grande', 'illoqqortoormiut', 'plouzane', 'ambon', 'vaini', 'saint-philippe', 'saskylakh', 'les cayes', 'bredasdorp', 'cabedelo', 'faya', 'heilbron', 'leningradskiy', 'ribeira grande', 'kiranur', 'vaini', 'kiunga', 'kapaa', 'mataura', 'umzimvubu', 'atuona', 'ushuaia', 'attawapiskat', 'hithadhoo', 'puerto ayora', 'kodiak', 'tefe', 'port elizabeth', 'winnemucca', 'barentsburg', 'katsuura', 'santa vitoria do palmar', 'mar del plata', 'steinbach', 'bambous virieux', 'taoudenni', 'awjilah', 'punta arenas', 'staryy nadym', 'arraial do cabo', 'iskateley', 'bargal', 'busselton', 'cockburn town', 'kizukuri', 'poya', 'hobart', 'avarua', 'te anau', 'auki', 'nishihara', 'ushuaia', 'sterling', 'grand-santi', 'ushuaia', 'saldanha', 'bozoum', 'lebu', 'rikitea', 'praya', 'cape town', 'papetoai', 'arraial do cabo', 'hilo', 'saint-philippe', 'porto walter', 'ilulissat', 'rikitea', 'riyadh', 'mar del plata', 'eppelborn', 'mataura', 'dikson', 'husavik', 'louisbourg', 'fairbanks', 'mataura', 'babu', 'saskylakh', 'pisco', 'mataura', 'rikitea', 'avarua', 'rikitea', 'horta', 'alta', 'ancud', 'katha', 'nanortalik', 'ponta do sol', 'kodiak', 'hithadhoo', 'kodiak', 'havoysund', 'kurikka', 'buala', 'kapaa', 'juifang', 'albany', 'belushya guba', 'mataura', 'taolanaro', 'mangan', 'atuona', 'hambantota', 'hobart', 'punta arenas', 'hermanus', 'provideniya', 'grand river south east', 'albany', 'ambunti', 'fairbanks', 'bredasdorp', 'cheuskiny', 'kaitangata', 'umzimvubu', 'srednekolymsk', 'beneditinos', 'cherskiy', 'mount isa', 'bluff', 'vaini', 'karratha', 'kavaratti', 'cayenne', 'rikitea', 'punta arenas', 'hilo', 'luderitz', 'cockburn town', 'ushuaia', 'khatanga', 'port augusta', 'upernavik', 'lorengau', 'busselton', 'ust-nera', 'mayo', 'dunda', 'zhigansk', 'ushuaia', 'cape town', 'calabozo', 'hjelset', 'muros', 'gazli', 'busselton', 'albany', 'ushuaia', 'belushya guba', 'sumter', 'busselton', 'chapais', 'tuatapere', 'nalut', 'saint-raymond', 'yellowknife', 'chokurdakh', 'arrecife', 'rikitea', 'bluff', 'severo-yeniseyskiy', 'newport', 'ushuaia', 'hobart', 'yellowknife', 'vaini', 'atuona', 'port elizabeth', 'ushuaia', 'port alberni', 'longyearbyen', 'tsihombe', 'chumikan', 'severo-kurilsk', 'faanui', 'shenjiamen', 'horadiz', 'beloha', 'constantine', 'chokurdakh', 'sao paulo de olivenca', 'waitati', 'hilo', 'zavet', 'te anau', 'huarmey', 'komsomolskiy', 'waddan', 'wabana', 'ust-kan', 'punta arenas', 'lebu', 'ushuaia', 'katsuura', 'nizhneyansk', 'itambe', 'butaritari', 'tiksi', 'longyearbyen', 'jamestown', 'deputatskiy', 'tsihombe', 'mataura', 'hilo', 'saint-esteve', 'benjamin aceval', 'chuy', 'lebu', 'hobart', 'pisco', 'kruisfontein', 'thompson', 'severnyy', 'thompson', 'tashtagol', 'jurm', 'avera', 'nizhneyansk', 'albany', 'grindavik', 'warwick']\n"
     ]
    }
   ],
   "source": [
    "# Identify nearest city for each set of coordinates\n",
    "cities = []\n",
    "\n",
    "for row in coordinates:\n",
    "    city = citipy.nearest_city(row[0], row[1]).city_name\n",
    "    cities.append(city)\n",
    "        \n",
    "print(cities)"
   ]
  },
  {
   "cell_type": "markdown",
   "metadata": {},
   "source": [
    "### Perform API Calls\n",
    "* Perform a weather check on each city using a series of successive API calls.\n",
    "* Include a print log of each city as it'sbeing processed (with the city number and city name).\n"
   ]
  },
  {
   "cell_type": "code",
   "execution_count": 117,
   "metadata": {},
   "outputs": [],
   "source": [
    "# Set dataframes for desired data\n",
    "\n",
    "max_temp = []\n",
    "humidity = []\n",
    "cloudiness = []\n",
    "wind_speed = []\n",
    "city_name = []\n",
    "city_lat = []\n",
    "city_lon = []\n",
    "country = []\n",
    "datetime = []\n",
    "\n",
    "url = f\"http://api.openweathermap.org/data/2.5/weather?&appid={weather_api_key}&units=imperial&q=\""
   ]
  },
  {
   "cell_type": "code",
   "execution_count": 118,
   "metadata": {},
   "outputs": [
    {
     "name": "stdout",
     "output_type": "stream",
     "text": [
      "{'base': 'stations',\n",
      " 'clouds': {'all': 83},\n",
      " 'cod': 200,\n",
      " 'coord': {'lat': 51.5085, 'lon': -0.1257},\n",
      " 'dt': 1621746761,\n",
      " 'id': 2643743,\n",
      " 'main': {'feels_like': 38.14,\n",
      "          'humidity': 87,\n",
      "          'pressure': 1010,\n",
      "          'temp': 42.03,\n",
      "          'temp_max': 44.26,\n",
      "          'temp_min': 39.29},\n",
      " 'name': 'London',\n",
      " 'sys': {'country': 'GB',\n",
      "         'id': 2019646,\n",
      "         'sunrise': 1621742276,\n",
      "         'sunset': 1621799814,\n",
      "         'type': 2},\n",
      " 'timezone': 3600,\n",
      " 'visibility': 10000,\n",
      " 'weather': [{'description': 'broken clouds',\n",
      "              'icon': '04d',\n",
      "              'id': 803,\n",
      "              'main': 'Clouds'}],\n",
      " 'wind': {'deg': 225, 'gust': 19.24, 'speed': 6.04}}\n"
     ]
    }
   ],
   "source": [
    "# Check format of incoming data\n",
    "\n",
    "test_data = requests.get(url+\"london\").json()\n",
    "pprint(test_data)"
   ]
  },
  {
   "cell_type": "code",
   "execution_count": 119,
   "metadata": {
    "scrolled": true
   },
   "outputs": [
    {
     "name": "stdout",
     "output_type": "stream",
     "text": [
      "Beginning Data Retrival\n",
      "-----------------------------\n",
      "Processing Record 0 | nanortalik\n",
      "Processing Record 1 | georgetown\n",
      "Processing Record 2 | georgetown\n",
      "Processing Record 3 | qaanaaq\n",
      "Processing Record 4 | hermanus\n",
      "Processing Record 5 | nanortalik\n",
      "Processing Record 6 | lukovetskiy\n",
      "Processing Record 7 | thompson\n",
      "Processing Record 8 | busselton\n",
      "Processing Record 9 | ushuaia\n",
      "Processing Record 10 | cape town\n",
      "Processing Record 11 | padang\n",
      "Processing Record 12 | birao\n",
      "Processing Record 13 | dingle\n",
      "Processing Record 14 | sistranda\n",
      "Processing Record 15 | tiksi\n",
      "Processing Record 16 | mataura\n",
      "Processing Record 17 | requena\n",
      "City not found! Skipping to next...\n",
      "Processing Record 18 | makakilo city\n",
      "Processing Record 19 | vaini\n",
      "Processing Record 20 | new norfolk\n",
      "Processing Record 21 | quang ngai\n",
      "Processing Record 22 | sao miguel do tapuio\n",
      "Processing Record 23 | hithadhoo\n",
      "Processing Record 24 | eydhafushi\n",
      "Processing Record 25 | ushuaia\n",
      "Processing Record 26 | buin\n",
      "Processing Record 27 | thompson\n",
      "Processing Record 28 | rikitea\n",
      "Processing Record 29 | hobart\n",
      "Processing Record 30 | hilo\n",
      "Processing Record 31 | puerto ayora\n",
      "City not found! Skipping to next...\n",
      "Processing Record 32 | bay roberts\n",
      "Processing Record 33 | kapaa\n",
      "Processing Record 34 | ushuaia\n",
      "Processing Record 35 | margate\n",
      "Processing Record 36 | smithers\n",
      "Processing Record 37 | coihaique\n",
      "Processing Record 38 | kodiak\n",
      "City not found! Skipping to next...\n",
      "Processing Record 39 | bethel\n",
      "Processing Record 40 | khatanga\n",
      "Processing Record 41 | hellvik\n",
      "Processing Record 42 | busselton\n",
      "Processing Record 43 | nome\n",
      "Processing Record 44 | grindavik\n",
      "Processing Record 45 | airai\n",
      "Processing Record 46 | codrington\n",
      "Processing Record 47 | port alfred\n",
      "Processing Record 48 | nouadhibou\n",
      "Processing Record 49 | abha\n",
      "Processing Record 50 | chokurdakh\n",
      "Processing Record 51 | hasaki\n",
      "Processing Record 52 | catuday\n",
      "Processing Record 53 | cape town\n",
      "Processing Record 54 | chokurdakh\n",
      "Processing Record 55 | port elizabeth\n",
      "Processing Record 56 | pevek\n",
      "Processing Record 57 | rikitea\n",
      "Processing Record 58 | fort nelson\n",
      "Processing Record 59 | tuktoyaktuk\n",
      "Processing Record 60 | ushuaia\n",
      "Processing Record 61 | gao\n",
      "Processing Record 62 | punta arenas\n",
      "Processing Record 63 | port alfred\n",
      "Processing Record 64 | bluff\n",
      "Processing Record 65 | saint george\n",
      "Processing Record 66 | kaniama\n",
      "Processing Record 67 | severo-kurilsk\n",
      "Processing Record 68 | sola\n",
      "Processing Record 69 | mataura\n",
      "Processing Record 70 | hilo\n",
      "Processing Record 71 | yellowknife\n",
      "Processing Record 72 | comrie\n",
      "Processing Record 73 | atuona\n",
      "Processing Record 74 | swan river\n",
      "Processing Record 75 | pokhara\n",
      "Processing Record 76 | tondela\n",
      "Processing Record 77 | nikolskoye\n",
      "Processing Record 78 | jamestown\n",
      "Processing Record 79 | mataura\n",
      "City not found! Skipping to next...\n",
      "Processing Record 80 | sorland\n",
      "Processing Record 81 | punta arenas\n",
      "Processing Record 82 | baker city\n",
      "Processing Record 83 | albany\n",
      "Processing Record 84 | aldan\n",
      "Processing Record 85 | luwuk\n",
      "Processing Record 86 | jamestown\n",
      "Processing Record 87 | east london\n",
      "City not found! Skipping to next...\n",
      "Processing Record 88 | kilgore\n",
      "Processing Record 89 | marsh harbour\n",
      "City not found! Skipping to next...\n",
      "Processing Record 90 | ushuaia\n",
      "Processing Record 91 | naze\n",
      "Processing Record 92 | busselton\n",
      "Processing Record 93 | chuy\n",
      "Processing Record 94 | morro agudo\n",
      "Processing Record 95 | chuy\n",
      "Processing Record 96 | kiunga\n",
      "Processing Record 97 | whitehorse\n",
      "Processing Record 98 | beringovskiy\n",
      "Processing Record 99 | ushuaia\n",
      "Processing Record 100 | bluff\n",
      "Processing Record 101 | ushuaia\n",
      "City not found! Skipping to next...\n",
      "Processing Record 102 | zalantun\n",
      "Processing Record 103 | norman wells\n",
      "Processing Record 104 | yellowknife\n",
      "Processing Record 105 | chifeng\n",
      "Processing Record 106 | port blair\n",
      "City not found! Skipping to next...\n",
      "Processing Record 107 | thompson\n",
      "Processing Record 108 | ketchikan\n",
      "Processing Record 109 | hervey bay\n",
      "Processing Record 110 | georgetown\n",
      "Processing Record 111 | carnarvon\n",
      "City not found! Skipping to next...\n",
      "Processing Record 112 | mataura\n",
      "Processing Record 113 | hithadhoo\n",
      "Processing Record 114 | krasnoselkup\n",
      "Processing Record 115 | lethem\n",
      "Processing Record 116 | taltal\n",
      "Processing Record 117 | mataura\n",
      "City not found! Skipping to next...\n",
      "Processing Record 118 | pyay\n",
      "Processing Record 119 | albany\n",
      "Processing Record 120 | sur\n",
      "Processing Record 121 | vardo\n",
      "Processing Record 122 | luderitz\n",
      "Processing Record 123 | ushuaia\n",
      "Processing Record 124 | east london\n",
      "Processing Record 125 | albany\n",
      "Processing Record 126 | punta arenas\n",
      "Processing Record 127 | ushuaia\n",
      "Processing Record 128 | pirgos\n",
      "Processing Record 129 | nikolskoye\n",
      "Processing Record 130 | khandyga\n",
      "Processing Record 131 | severo-kurilsk\n",
      "Processing Record 132 | rikitea\n",
      "Processing Record 133 | nikolskoye\n",
      "Processing Record 134 | avarua\n",
      "Processing Record 135 | jawar\n",
      "Processing Record 136 | sisimiut\n",
      "Processing Record 137 | mataura\n",
      "Processing Record 138 | georgetown\n",
      "Processing Record 139 | honningsvag\n",
      "Processing Record 140 | albany\n",
      "Processing Record 141 | hobart\n",
      "Processing Record 142 | east london\n",
      "Processing Record 143 | wewak\n",
      "Processing Record 144 | mataura\n",
      "Processing Record 145 | dikson\n",
      "Processing Record 146 | punta arenas\n",
      "Processing Record 147 | atuona\n",
      "Processing Record 148 | ratnagiri\n",
      "Processing Record 149 | kodiak\n",
      "Processing Record 150 | bredasdorp\n",
      "Processing Record 151 | barrow\n",
      "Processing Record 152 | te anau\n",
      "Processing Record 153 | pinar del rio\n",
      "Processing Record 154 | rikitea\n",
      "City not found! Skipping to next...\n",
      "Processing Record 155 | avarua\n",
      "Processing Record 156 | puerto ayora\n",
      "City not found! Skipping to next...\n",
      "City not found! Skipping to next...\n",
      "Processing Record 157 | cape town\n",
      "Processing Record 158 | le portel\n",
      "Processing Record 159 | elizabeth city\n",
      "Processing Record 160 | ondjiva\n",
      "Processing Record 161 | vaini\n",
      "Processing Record 162 | arraial do cabo\n",
      "City not found! Skipping to next...\n",
      "Processing Record 163 | opuwo\n",
      "Processing Record 164 | sioux lookout\n",
      "Processing Record 165 | bluff\n",
      "Processing Record 166 | mataura\n",
      "Processing Record 167 | providencia\n",
      "Processing Record 168 | punta arenas\n",
      "Processing Record 169 | thompson\n",
      "Processing Record 170 | east london\n",
      "Processing Record 171 | rocha\n",
      "Processing Record 172 | egvekinot\n",
      "Processing Record 173 | hobart\n",
      "Processing Record 174 | samarai\n",
      "Processing Record 175 | khatanga\n",
      "Processing Record 176 | busselton\n",
      "Processing Record 177 | peniche\n",
      "Processing Record 178 | longyearbyen\n",
      "Processing Record 179 | vaini\n",
      "Processing Record 180 | east london\n",
      "Processing Record 181 | castro\n",
      "Processing Record 182 | noyabrsk\n",
      "Processing Record 183 | vardo\n",
      "Processing Record 184 | cabo san lucas\n",
      "Processing Record 185 | vaini\n",
      "Processing Record 186 | raudeberg\n",
      "Processing Record 187 | saskylakh\n",
      "Processing Record 188 | comodoro rivadavia\n",
      "Processing Record 189 | te anau\n",
      "Processing Record 190 | new norfolk\n",
      "Processing Record 191 | avarua\n",
      "Processing Record 192 | albany\n",
      "Processing Record 193 | hermanus\n",
      "Processing Record 194 | saskylakh\n",
      "Processing Record 195 | georgetown\n",
      "Processing Record 196 | kapaa\n",
      "Processing Record 197 | tuatapere\n",
      "City not found! Skipping to next...\n",
      "Processing Record 198 | necochea\n",
      "Processing Record 199 | carnarvon\n",
      "Processing Record 200 | busselton\n",
      "Processing Record 201 | saldanha\n",
      "Processing Record 202 | saint-philippe\n",
      "Processing Record 203 | bubaque\n",
      "Processing Record 204 | the valley\n",
      "Processing Record 205 | collie\n",
      "Processing Record 206 | butaritari\n",
      "City not found! Skipping to next...\n",
      "Processing Record 207 | rikitea\n",
      "City not found! Skipping to next...\n",
      "City not found! Skipping to next...\n",
      "Processing Record 208 | sete\n",
      "Processing Record 209 | atar\n",
      "Processing Record 210 | sabang\n",
      "Processing Record 211 | san jose\n",
      "Processing Record 212 | cabo san lucas\n",
      "Processing Record 213 | port lavaca\n",
      "Processing Record 214 | port elizabeth\n",
      "Processing Record 215 | albany\n",
      "Processing Record 216 | hermanus\n",
      "Processing Record 217 | atuona\n",
      "Processing Record 218 | ankang\n",
      "Processing Record 219 | hobart\n",
      "Processing Record 220 | kruisfontein\n",
      "Processing Record 221 | hermanus\n",
      "Processing Record 222 | rikitea\n",
      "Processing Record 223 | hermanus\n",
      "Processing Record 224 | barrow\n",
      "Processing Record 225 | general pico\n",
      "Processing Record 226 | imuris\n",
      "Processing Record 227 | punta arenas\n",
      "Processing Record 228 | puerto ayora\n"
     ]
    },
    {
     "name": "stdout",
     "output_type": "stream",
     "text": [
      "Processing Record 229 | cherskiy\n",
      "City not found! Skipping to next...\n",
      "Processing Record 230 | aleksandrov gay\n",
      "City not found! Skipping to next...\n",
      "Processing Record 231 | chuy\n",
      "Processing Record 232 | luderitz\n",
      "Processing Record 233 | turbat\n",
      "Processing Record 234 | lufilufi\n",
      "Processing Record 235 | kirakira\n",
      "Processing Record 236 | avarua\n",
      "Processing Record 237 | punta arenas\n",
      "Processing Record 238 | tuktoyaktuk\n",
      "Processing Record 239 | atuona\n",
      "Processing Record 240 | tiarei\n",
      "Processing Record 241 | alofi\n",
      "Processing Record 242 | ponta do sol\n",
      "City not found! Skipping to next...\n",
      "City not found! Skipping to next...\n",
      "Processing Record 243 | quatre cocos\n",
      "Processing Record 244 | hilo\n",
      "Processing Record 245 | flinders\n",
      "Processing Record 246 | hermanus\n",
      "Processing Record 247 | hermanus\n",
      "Processing Record 248 | samana\n",
      "Processing Record 249 | vestmannaeyjar\n",
      "Processing Record 250 | vaini\n",
      "Processing Record 251 | mar del plata\n",
      "Processing Record 252 | ribeira grande\n",
      "Processing Record 253 | kapaa\n",
      "Processing Record 254 | longyearbyen\n",
      "Processing Record 255 | rikitea\n",
      "Processing Record 256 | port alfred\n",
      "Processing Record 257 | tuktoyaktuk\n",
      "Processing Record 258 | mataura\n",
      "Processing Record 259 | saldanha\n",
      "Processing Record 260 | punta arenas\n",
      "Processing Record 261 | tasiilaq\n",
      "Processing Record 262 | guerrero negro\n",
      "Processing Record 263 | busselton\n",
      "Processing Record 264 | yabelo\n",
      "Processing Record 265 | vaini\n",
      "Processing Record 266 | bambous virieux\n",
      "Processing Record 267 | sao filipe\n",
      "Processing Record 268 | namatanai\n",
      "Processing Record 269 | zhuanghe\n",
      "City not found! Skipping to next...\n",
      "Processing Record 270 | khatanga\n",
      "Processing Record 271 | sogne\n",
      "Processing Record 272 | amapa\n",
      "Processing Record 273 | rawson\n",
      "Processing Record 274 | punta arenas\n",
      "Processing Record 275 | bambous virieux\n",
      "Processing Record 276 | busselton\n",
      "Processing Record 277 | yellowknife\n",
      "Processing Record 278 | yellowknife\n",
      "Processing Record 279 | namatanai\n",
      "Processing Record 280 | olafsvik\n",
      "Processing Record 281 | lalin\n",
      "Processing Record 282 | beringovskiy\n",
      "Processing Record 283 | guerrero negro\n",
      "Processing Record 284 | brae\n",
      "Processing Record 285 | mitsamiouli\n",
      "Processing Record 286 | fort nelson\n",
      "Processing Record 287 | yellowknife\n",
      "City not found! Skipping to next...\n",
      "Processing Record 288 | hermanus\n",
      "Processing Record 289 | rikitea\n",
      "Processing Record 290 | rikitea\n",
      "Processing Record 291 | westport\n",
      "Processing Record 292 | kapaa\n",
      "Processing Record 293 | lahad datu\n",
      "City not found! Skipping to next...\n",
      "City not found! Skipping to next...\n",
      "Processing Record 294 | hofn\n",
      "Processing Record 295 | torbay\n",
      "Processing Record 296 | resistencia\n",
      "Processing Record 297 | saint-philippe\n",
      "Processing Record 298 | qaanaaq\n",
      "Processing Record 299 | nazas\n",
      "Processing Record 300 | nefteyugansk\n",
      "Processing Record 301 | aripuana\n",
      "Processing Record 302 | saint george\n",
      "Processing Record 303 | alushta\n",
      "Processing Record 304 | georgetown\n",
      "Processing Record 305 | kapaa\n",
      "Processing Record 306 | solenzo\n",
      "Processing Record 307 | namibe\n",
      "Processing Record 308 | zhanaozen\n",
      "Processing Record 309 | vaini\n",
      "City not found! Skipping to next...\n",
      "Processing Record 310 | mahebourg\n",
      "Processing Record 311 | pimentel\n",
      "Processing Record 312 | mataura\n",
      "Processing Record 313 | katsuura\n",
      "Processing Record 314 | dingle\n",
      "Processing Record 315 | hobart\n",
      "Processing Record 316 | mataura\n",
      "Processing Record 317 | tuktoyaktuk\n",
      "Processing Record 318 | yeppoon\n",
      "Processing Record 319 | airai\n",
      "Processing Record 320 | mount gambier\n",
      "Processing Record 321 | santa cruz\n",
      "Processing Record 322 | saskylakh\n",
      "Processing Record 323 | markivka\n",
      "Processing Record 324 | thompson\n",
      "Processing Record 325 | athabasca\n",
      "Processing Record 326 | saskylakh\n",
      "Processing Record 327 | kabo\n",
      "Processing Record 328 | mataura\n",
      "Processing Record 329 | busselton\n",
      "Processing Record 330 | krasnoselkup\n",
      "Processing Record 331 | batemans bay\n",
      "Processing Record 332 | luderitz\n",
      "Processing Record 333 | berlevag\n",
      "Processing Record 334 | leningradskiy\n",
      "Processing Record 335 | awbari\n",
      "Processing Record 336 | mataura\n",
      "Processing Record 337 | kapaa\n",
      "Processing Record 338 | chuy\n",
      "Processing Record 339 | margate\n",
      "Processing Record 340 | hithadhoo\n",
      "Processing Record 341 | mlyniv\n",
      "Processing Record 342 | de aar\n",
      "Processing Record 343 | sur\n",
      "Processing Record 344 | puerto ayora\n",
      "Processing Record 345 | thompson\n",
      "Processing Record 346 | kruisfontein\n",
      "City not found! Skipping to next...\n",
      "Processing Record 347 | bluff\n",
      "Processing Record 348 | milkovo\n",
      "Processing Record 349 | ribeira grande\n",
      "City not found! Skipping to next...\n",
      "Processing Record 350 | plouzane\n",
      "Processing Record 351 | ambon\n",
      "Processing Record 352 | vaini\n",
      "Processing Record 353 | saint-philippe\n",
      "Processing Record 354 | saskylakh\n",
      "Processing Record 355 | les cayes\n",
      "Processing Record 356 | bredasdorp\n",
      "Processing Record 357 | cabedelo\n",
      "Processing Record 358 | faya\n",
      "Processing Record 359 | heilbron\n",
      "Processing Record 360 | leningradskiy\n",
      "Processing Record 361 | ribeira grande\n",
      "Processing Record 362 | kiranur\n",
      "Processing Record 363 | vaini\n",
      "Processing Record 364 | kiunga\n",
      "Processing Record 365 | kapaa\n",
      "Processing Record 366 | mataura\n",
      "City not found! Skipping to next...\n",
      "Processing Record 367 | atuona\n",
      "Processing Record 368 | ushuaia\n",
      "City not found! Skipping to next...\n",
      "Processing Record 369 | hithadhoo\n",
      "Processing Record 370 | puerto ayora\n",
      "Processing Record 371 | kodiak\n",
      "Processing Record 372 | tefe\n",
      "Processing Record 373 | port elizabeth\n",
      "Processing Record 374 | winnemucca\n",
      "City not found! Skipping to next...\n",
      "Processing Record 375 | katsuura\n",
      "Processing Record 376 | santa vitoria do palmar\n",
      "Processing Record 377 | mar del plata\n",
      "Processing Record 378 | steinbach\n",
      "Processing Record 379 | bambous virieux\n",
      "Processing Record 380 | taoudenni\n",
      "Processing Record 381 | awjilah\n",
      "Processing Record 382 | punta arenas\n",
      "Processing Record 383 | staryy nadym\n",
      "Processing Record 384 | arraial do cabo\n",
      "Processing Record 385 | iskateley\n",
      "City not found! Skipping to next...\n",
      "Processing Record 386 | busselton\n",
      "Processing Record 387 | cockburn town\n",
      "Processing Record 388 | kizukuri\n",
      "Processing Record 389 | poya\n",
      "Processing Record 390 | hobart\n",
      "Processing Record 391 | avarua\n",
      "Processing Record 392 | te anau\n",
      "Processing Record 393 | auki\n",
      "Processing Record 394 | nishihara\n",
      "Processing Record 395 | ushuaia\n",
      "Processing Record 396 | sterling\n",
      "Processing Record 397 | grand-santi\n",
      "Processing Record 398 | ushuaia\n",
      "Processing Record 399 | saldanha\n",
      "Processing Record 400 | bozoum\n",
      "Processing Record 401 | lebu\n",
      "Processing Record 402 | rikitea\n",
      "Processing Record 403 | praya\n",
      "Processing Record 404 | cape town\n",
      "Processing Record 405 | papetoai\n",
      "Processing Record 406 | arraial do cabo\n",
      "Processing Record 407 | hilo\n",
      "Processing Record 408 | saint-philippe\n",
      "Processing Record 409 | porto walter\n",
      "Processing Record 410 | ilulissat\n",
      "Processing Record 411 | rikitea\n",
      "Processing Record 412 | riyadh\n",
      "Processing Record 413 | mar del plata\n",
      "Processing Record 414 | eppelborn\n",
      "Processing Record 415 | mataura\n",
      "Processing Record 416 | dikson\n",
      "Processing Record 417 | husavik\n",
      "City not found! Skipping to next...\n",
      "Processing Record 418 | fairbanks\n",
      "Processing Record 419 | mataura\n",
      "Processing Record 420 | babu\n",
      "Processing Record 421 | saskylakh\n",
      "Processing Record 422 | pisco\n",
      "Processing Record 423 | mataura\n",
      "Processing Record 424 | rikitea\n",
      "Processing Record 425 | avarua\n",
      "Processing Record 426 | rikitea\n",
      "Processing Record 427 | horta\n",
      "Processing Record 428 | alta\n",
      "Processing Record 429 | ancud\n",
      "City not found! Skipping to next...\n",
      "Processing Record 430 | nanortalik\n",
      "Processing Record 431 | ponta do sol\n",
      "Processing Record 432 | kodiak\n",
      "Processing Record 433 | hithadhoo\n",
      "Processing Record 434 | kodiak\n",
      "Processing Record 435 | havoysund\n",
      "Processing Record 436 | kurikka\n",
      "Processing Record 437 | buala\n",
      "Processing Record 438 | kapaa\n",
      "City not found! Skipping to next...\n",
      "Processing Record 439 | albany\n",
      "City not found! Skipping to next...\n",
      "Processing Record 440 | mataura\n",
      "City not found! Skipping to next...\n",
      "Processing Record 441 | mangan\n",
      "Processing Record 442 | atuona\n",
      "Processing Record 443 | hambantota\n",
      "Processing Record 444 | hobart\n",
      "Processing Record 445 | punta arenas\n",
      "Processing Record 446 | hermanus\n",
      "Processing Record 447 | provideniya\n",
      "City not found! Skipping to next...\n",
      "Processing Record 448 | albany\n",
      "Processing Record 449 | ambunti\n",
      "Processing Record 450 | fairbanks\n",
      "Processing Record 451 | bredasdorp\n"
     ]
    },
    {
     "name": "stdout",
     "output_type": "stream",
     "text": [
      "City not found! Skipping to next...\n",
      "Processing Record 452 | kaitangata\n",
      "City not found! Skipping to next...\n",
      "Processing Record 453 | srednekolymsk\n",
      "Processing Record 454 | beneditinos\n",
      "Processing Record 455 | cherskiy\n",
      "Processing Record 456 | mount isa\n",
      "Processing Record 457 | bluff\n",
      "Processing Record 458 | vaini\n",
      "Processing Record 459 | karratha\n",
      "Processing Record 460 | kavaratti\n",
      "Processing Record 461 | cayenne\n",
      "Processing Record 462 | rikitea\n",
      "Processing Record 463 | punta arenas\n",
      "Processing Record 464 | hilo\n",
      "Processing Record 465 | luderitz\n",
      "Processing Record 466 | cockburn town\n",
      "Processing Record 467 | ushuaia\n",
      "Processing Record 468 | khatanga\n",
      "Processing Record 469 | port augusta\n",
      "Processing Record 470 | upernavik\n",
      "Processing Record 471 | lorengau\n",
      "Processing Record 472 | busselton\n",
      "Processing Record 473 | ust-nera\n",
      "Processing Record 474 | mayo\n",
      "Processing Record 475 | dunda\n",
      "Processing Record 476 | zhigansk\n",
      "Processing Record 477 | ushuaia\n",
      "Processing Record 478 | cape town\n",
      "Processing Record 479 | calabozo\n",
      "Processing Record 480 | hjelset\n",
      "Processing Record 481 | muros\n",
      "Processing Record 482 | gazli\n",
      "Processing Record 483 | busselton\n",
      "Processing Record 484 | albany\n",
      "Processing Record 485 | ushuaia\n",
      "City not found! Skipping to next...\n",
      "Processing Record 486 | sumter\n",
      "Processing Record 487 | busselton\n",
      "Processing Record 488 | chapais\n",
      "Processing Record 489 | tuatapere\n",
      "Processing Record 490 | nalut\n",
      "Processing Record 491 | saint-raymond\n",
      "Processing Record 492 | yellowknife\n",
      "Processing Record 493 | chokurdakh\n",
      "Processing Record 494 | arrecife\n",
      "Processing Record 495 | rikitea\n",
      "Processing Record 496 | bluff\n",
      "Processing Record 497 | severo-yeniseyskiy\n",
      "Processing Record 498 | newport\n",
      "Processing Record 499 | ushuaia\n",
      "Processing Record 500 | hobart\n",
      "Processing Record 501 | yellowknife\n",
      "Processing Record 502 | vaini\n",
      "Processing Record 503 | atuona\n",
      "Processing Record 504 | port elizabeth\n",
      "Processing Record 505 | ushuaia\n",
      "Processing Record 506 | port alberni\n",
      "Processing Record 507 | longyearbyen\n",
      "City not found! Skipping to next...\n",
      "Processing Record 508 | chumikan\n",
      "Processing Record 509 | severo-kurilsk\n",
      "Processing Record 510 | faanui\n",
      "Processing Record 511 | shenjiamen\n",
      "Processing Record 512 | horadiz\n",
      "Processing Record 513 | beloha\n",
      "Processing Record 514 | constantine\n",
      "Processing Record 515 | chokurdakh\n",
      "Processing Record 516 | sao paulo de olivenca\n",
      "Processing Record 517 | waitati\n",
      "Processing Record 518 | hilo\n",
      "Processing Record 519 | zavet\n",
      "Processing Record 520 | te anau\n",
      "Processing Record 521 | huarmey\n",
      "Processing Record 522 | komsomolskiy\n",
      "Processing Record 523 | waddan\n",
      "Processing Record 524 | wabana\n",
      "Processing Record 525 | ust-kan\n",
      "Processing Record 526 | punta arenas\n",
      "Processing Record 527 | lebu\n",
      "Processing Record 528 | ushuaia\n",
      "Processing Record 529 | katsuura\n",
      "City not found! Skipping to next...\n",
      "Processing Record 530 | itambe\n",
      "Processing Record 531 | butaritari\n",
      "Processing Record 532 | tiksi\n",
      "Processing Record 533 | longyearbyen\n",
      "Processing Record 534 | jamestown\n",
      "Processing Record 535 | deputatskiy\n",
      "City not found! Skipping to next...\n",
      "Processing Record 536 | mataura\n",
      "Processing Record 537 | hilo\n",
      "Processing Record 538 | saint-esteve\n",
      "Processing Record 539 | benjamin aceval\n",
      "Processing Record 540 | chuy\n",
      "Processing Record 541 | lebu\n",
      "Processing Record 542 | hobart\n",
      "Processing Record 543 | pisco\n",
      "Processing Record 544 | kruisfontein\n",
      "Processing Record 545 | thompson\n",
      "Processing Record 546 | severnyy\n",
      "Processing Record 547 | thompson\n",
      "Processing Record 548 | tashtagol\n",
      "Processing Record 549 | jurm\n",
      "Processing Record 550 | avera\n",
      "City not found! Skipping to next...\n",
      "Processing Record 551 | albany\n",
      "Processing Record 552 | grindavik\n",
      "Processing Record 553 | warwick\n",
      "--------------------\n",
      "Data Retrieval Complete\n",
      "--------------------\n"
     ]
    }
   ],
   "source": [
    "# Receive data from OpenWeatherMap\n",
    "counter = 0\n",
    "\n",
    "print(\"Beginning Data Retrival\")\n",
    "print(\"-----------------------------\")\n",
    "\n",
    "\n",
    "for city in cities:\n",
    "    response = requests.get(url+city).json()\n",
    "    if response[\"cod\"]==200:\n",
    "        max_temp.append(response[\"main\"][\"temp_max\"])\n",
    "        humidity.append(response[\"main\"][\"humidity\"])\n",
    "        cloudiness.append(response[\"clouds\"][\"all\"])\n",
    "        wind_speed.append(response[\"wind\"][\"speed\"])\n",
    "        city_name.append(response[\"name\"])\n",
    "        city_lat.append(response[\"coord\"][\"lat\"])\n",
    "        city_lon.append(response[\"coord\"][\"lon\"])\n",
    "        country.append(response[\"sys\"][\"country\"])\n",
    "        datetime.append(response[\"dt\"])\n",
    "        print(f\"Processing Record {counter} | {city}\")\n",
    "        counter += 1\n",
    "    else:\n",
    "        print(f\"City not found! Skipping to next...\")\n",
    "\n",
    "print(f\"--------------------\")\n",
    "print(f\"Data Retrieval Complete\")\n",
    "print(f\"--------------------\")\n"
   ]
  },
  {
   "cell_type": "markdown",
   "metadata": {},
   "source": [
    "### Convert Raw Data to DataFrame\n",
    "* Export the city data into a .csv.\n",
    "* Display the DataFrame"
   ]
  },
  {
   "cell_type": "code",
   "execution_count": 122,
   "metadata": {},
   "outputs": [
    {
     "data": {
      "text/html": [
       "<div>\n",
       "<style scoped>\n",
       "    .dataframe tbody tr th:only-of-type {\n",
       "        vertical-align: middle;\n",
       "    }\n",
       "\n",
       "    .dataframe tbody tr th {\n",
       "        vertical-align: top;\n",
       "    }\n",
       "\n",
       "    .dataframe thead th {\n",
       "        text-align: right;\n",
       "    }\n",
       "</style>\n",
       "<table border=\"1\" class=\"dataframe\">\n",
       "  <thead>\n",
       "    <tr style=\"text-align: right;\">\n",
       "      <th></th>\n",
       "      <th>City</th>\n",
       "      <th>Lat</th>\n",
       "      <th>Long</th>\n",
       "      <th>Max Temp</th>\n",
       "      <th>Humidity</th>\n",
       "      <th>Cloudiness</th>\n",
       "      <th>Wind Speed</th>\n",
       "      <th>Country</th>\n",
       "      <th>Datetime</th>\n",
       "    </tr>\n",
       "  </thead>\n",
       "  <tbody>\n",
       "    <tr>\n",
       "      <th>0</th>\n",
       "      <td>Nanortalik</td>\n",
       "      <td>60.1432</td>\n",
       "      <td>-45.2371</td>\n",
       "      <td>33.69</td>\n",
       "      <td>69</td>\n",
       "      <td>100</td>\n",
       "      <td>1.30</td>\n",
       "      <td>GL</td>\n",
       "      <td>1621747565</td>\n",
       "    </tr>\n",
       "    <tr>\n",
       "      <th>1</th>\n",
       "      <td>George Town</td>\n",
       "      <td>5.4112</td>\n",
       "      <td>100.3354</td>\n",
       "      <td>91.35</td>\n",
       "      <td>66</td>\n",
       "      <td>20</td>\n",
       "      <td>8.05</td>\n",
       "      <td>MY</td>\n",
       "      <td>1621747389</td>\n",
       "    </tr>\n",
       "    <tr>\n",
       "      <th>2</th>\n",
       "      <td>George Town</td>\n",
       "      <td>5.4112</td>\n",
       "      <td>100.3354</td>\n",
       "      <td>91.35</td>\n",
       "      <td>66</td>\n",
       "      <td>20</td>\n",
       "      <td>8.05</td>\n",
       "      <td>MY</td>\n",
       "      <td>1621747389</td>\n",
       "    </tr>\n",
       "    <tr>\n",
       "      <th>3</th>\n",
       "      <td>Qaanaaq</td>\n",
       "      <td>77.4840</td>\n",
       "      <td>-69.3632</td>\n",
       "      <td>18.14</td>\n",
       "      <td>76</td>\n",
       "      <td>82</td>\n",
       "      <td>6.26</td>\n",
       "      <td>GL</td>\n",
       "      <td>1621747357</td>\n",
       "    </tr>\n",
       "    <tr>\n",
       "      <th>4</th>\n",
       "      <td>Hermanus</td>\n",
       "      <td>-34.4187</td>\n",
       "      <td>19.2345</td>\n",
       "      <td>59.90</td>\n",
       "      <td>50</td>\n",
       "      <td>32</td>\n",
       "      <td>7.65</td>\n",
       "      <td>ZA</td>\n",
       "      <td>1621747365</td>\n",
       "    </tr>\n",
       "  </tbody>\n",
       "</table>\n",
       "</div>"
      ],
      "text/plain": [
       "          City      Lat      Long  Max Temp  Humidity  Cloudiness  Wind Speed  \\\n",
       "0   Nanortalik  60.1432  -45.2371     33.69        69         100        1.30   \n",
       "1  George Town   5.4112  100.3354     91.35        66          20        8.05   \n",
       "2  George Town   5.4112  100.3354     91.35        66          20        8.05   \n",
       "3      Qaanaaq  77.4840  -69.3632     18.14        76          82        6.26   \n",
       "4     Hermanus -34.4187   19.2345     59.90        50          32        7.65   \n",
       "\n",
       "  Country    Datetime  \n",
       "0      GL  1621747565  \n",
       "1      MY  1621747389  \n",
       "2      MY  1621747389  \n",
       "3      GL  1621747357  \n",
       "4      ZA  1621747365  "
      ]
     },
     "execution_count": 122,
     "metadata": {},
     "output_type": "execute_result"
    }
   ],
   "source": [
    "# Create DataFrame\n",
    "data_df = pd.DataFrame({\"City\": city_name,\n",
    "\"Lat\":city_lat,\n",
    "\"Long\":city_lon,\n",
    "\"Max Temp\":max_temp,\n",
    "\"Humidity\":humidity,\n",
    "\"Cloudiness\":cloudiness,\n",
    "\"Wind Speed\":wind_speed,\n",
    "\"Country\":country,\n",
    "\"Datetime\":datetime})\n",
    "data_df.head()"
   ]
  },
  {
   "cell_type": "code",
   "execution_count": 125,
   "metadata": {},
   "outputs": [
    {
     "data": {
      "text/plain": [
       "City          554\n",
       "Lat           554\n",
       "Long          554\n",
       "Max Temp      554\n",
       "Humidity      554\n",
       "Cloudiness    554\n",
       "Wind Speed    554\n",
       "Country       554\n",
       "Datetime      554\n",
       "dtype: int64"
      ]
     },
     "execution_count": 125,
     "metadata": {},
     "output_type": "execute_result"
    }
   ],
   "source": [
    "# Export csv\n",
    "\n",
    "data_df.to_csv(\"weather_data.csv\",index=False,header=True)\n",
    "\n",
    "data_df.count()"
   ]
  },
  {
   "cell_type": "markdown",
   "metadata": {},
   "source": [
    "## Inspect the data and remove the cities where the humidity > 100%.\n",
    "----\n",
    "Skip this step if there are no cities that have humidity > 100%. "
   ]
  },
  {
   "cell_type": "code",
   "execution_count": 137,
   "metadata": {},
   "outputs": [
    {
     "data": {
      "text/plain": [
       "City          554\n",
       "Lat           554\n",
       "Long          554\n",
       "Max Temp      554\n",
       "Humidity      554\n",
       "Cloudiness    554\n",
       "Wind Speed    554\n",
       "Country       554\n",
       "Datetime      554\n",
       "dtype: int64"
      ]
     },
     "execution_count": 137,
     "metadata": {},
     "output_type": "execute_result"
    }
   ],
   "source": [
    "# Drop cities with humidity over 100%\n",
    "low_humidity = data_df.loc[data_df[\"Humidity\"]<=100,:]\n",
    "low_humidity.count()"
   ]
  },
  {
   "cell_type": "code",
   "execution_count": 139,
   "metadata": {},
   "outputs": [
    {
     "data": {
      "text/plain": [
       "City          0\n",
       "Lat           0\n",
       "Long          0\n",
       "Max Temp      0\n",
       "Humidity      0\n",
       "Cloudiness    0\n",
       "Wind Speed    0\n",
       "Country       0\n",
       "Datetime      0\n",
       "dtype: int64"
      ]
     },
     "execution_count": 139,
     "metadata": {},
     "output_type": "execute_result"
    }
   ],
   "source": [
    "#  Get the indices of cities that have humidity over 100%.\n",
    "high_humidity = data_df.loc[data_df[\"Humidity\"]>100,:]\n",
    "high_humidity.count()"
   ]
  },
  {
   "cell_type": "code",
   "execution_count": 140,
   "metadata": {},
   "outputs": [],
   "source": [
    "# Make a new DataFrame equal to the city data to drop all humidity outliers by index.\n",
    "# Passing \"inplace=False\" will make a copy of the city_data DataFrame, which we call \"clean_city_data\".\n",
    "\n",
    "#N/A as all of my data is 100% or below"
   ]
  },
  {
   "cell_type": "code",
   "execution_count": null,
   "metadata": {},
   "outputs": [],
   "source": [
    "\n"
   ]
  },
  {
   "cell_type": "markdown",
   "metadata": {},
   "source": [
    "## Plotting the Data\n",
    "* Use proper labeling of the plots using plot titles (including date of analysis) and axes labels.\n",
    "* Save the plotted figures as .pngs."
   ]
  },
  {
   "cell_type": "markdown",
   "metadata": {},
   "source": [
    "## Latitude vs. Temperature Plot"
   ]
  },
  {
   "cell_type": "code",
   "execution_count": 217,
   "metadata": {
    "scrolled": true
   },
   "outputs": [
    {
     "data": {
      "image/png": "[encoded data removed]",
      "text/plain": [
       "<Figure size 432x288 with 1 Axes>"
      ]
     },
     "metadata": {
      "needs_background": "light"
     },
     "output_type": "display_data"
    }
   ],
   "source": [
    "temp_plot = plt.scatter(data_df[\"Lat\"],data_df[\"Max Temp\"])\n",
    "plt.xlabel(\"Latitude\")\n",
    "plt.ylabel(\"Max Temperature (F)\")\n",
    "plt.title(\"City Latitude vs Max Temperature 5/23/21\",size=14)\n",
    "plt.xlim(-85,85)\n",
    "plt.grid()\n",
    "\n",
    "plt.savefig(\"Lat_Temp.png\")\n",
    "plt.show(temp_plot)\n",
    "\n",
    "# This plot is showing the max daily temperature vs latitude for randomly selected citites across the globe.\n",
    "# Temp rises as expected towards the equator, but temps are actually higher \n",
    "# slightly north of the equater due to it being summer in the norther hemisphere.\n",
    "# Also of note is the much larger data set in the northern hemisphere due to higher population and more land-mass."
   ]
  },
  {
   "cell_type": "markdown",
   "metadata": {},
   "source": [
    "## Latitude vs. Humidity Plot"
   ]
  },
  {
   "cell_type": "code",
   "execution_count": 218,
   "metadata": {},
   "outputs": [
    {
     "data": {
      "image/png": "[encoded data removed]",
      "text/plain": [
       "<Figure size 432x288 with 1 Axes>"
      ]
     },
     "metadata": {
      "needs_background": "light"
     },
     "output_type": "display_data"
    }
   ],
   "source": [
    "humidity_plot = plt.scatter(data_df[\"Lat\"],data_df[\"Humidity\"],facecolors=\"purple\")\n",
    "plt.xlabel(\"Latitude\")\n",
    "plt.ylabel(\"Humidity %\")\n",
    "plt.title(\"City Latitude vs Humidity 5/23/21\",size=14)\n",
    "plt.xlim(-85,85)\n",
    "plt.grid()\n",
    "\n",
    "plt.savefig(\"Lat_Humidity.png\")\n",
    "plt.show(temp_plot)\n",
    "\n",
    "# This plot shows humidity of cities vs latitude. There is no correlation, as expected."
   ]
  },
  {
   "cell_type": "markdown",
   "metadata": {},
   "source": [
    "## Latitude vs. Cloudiness Plot"
   ]
  },
  {
   "cell_type": "code",
   "execution_count": 219,
   "metadata": {},
   "outputs": [
    {
     "data": {
      "image/png": "[encoded data removed]",
      "text/plain": [
       "<Figure size 432x288 with 1 Axes>"
      ]
     },
     "metadata": {
      "needs_background": "light"
     },
     "output_type": "display_data"
    }
   ],
   "source": [
    "cloud_plot = plt.scatter(data_df[\"Lat\"],data_df[\"Cloudiness\"],facecolors=\"gray\",edgecolors=\"black\")\n",
    "plt.xlabel(\"Latitude\")\n",
    "plt.ylabel(\"Cloudiness %\")\n",
    "plt.title(\"City Latitude vs Cloudiness 5/23/21\",size=14)\n",
    "plt.xlim(-85,85)\n",
    "plt.grid()\n",
    "\n",
    "plt.savefig(\"Lat_Cloudiness.png\")\n",
    "plt.show(temp_plot)\n",
    "\n",
    "# This plot is cloudiness vs latitude. There is no correlation here either.\n",
    "# Interestingly, most cities are either 100% or 0% cloud cover today."
   ]
  },
  {
   "cell_type": "markdown",
   "metadata": {},
   "source": [
    "## Latitude vs. Wind Speed Plot"
   ]
  },
  {
   "cell_type": "code",
   "execution_count": 220,
   "metadata": {},
   "outputs": [
    {
     "data": {
      "image/png": "[encoded data removed]",
      "text/plain": [
       "<Figure size 432x288 with 1 Axes>"
      ]
     },
     "metadata": {
      "needs_background": "light"
     },
     "output_type": "display_data"
    }
   ],
   "source": [
    "wind_plot = plt.scatter(data_df[\"Lat\"],data_df[\"Wind Speed\"],facecolors=\"white\",edgecolors=\"blue\")\n",
    "plt.xlabel(\"Latitude\")\n",
    "plt.ylabel(\"Wind Speed mph\")\n",
    "plt.title(\"City Latitude vs Wind Speed 5/23/21\",size=14)\n",
    "plt.xlim(-85,85)\n",
    "plt.grid()\n",
    "\n",
    "plt.savefig(\"Lat_Wind Speed.png\")\n",
    "plt.show(temp_plot)\n",
    "\n",
    "# This plot shows wind speed vs latitude. These is very little correlation."
   ]
  },
  {
   "cell_type": "markdown",
   "metadata": {},
   "source": [
    "## Linear Regression"
   ]
  },
  {
   "cell_type": "code",
   "execution_count": 160,
   "metadata": {},
   "outputs": [
    {
     "data": {
      "text/html": [
       "<div>\n",
       "<style scoped>\n",
       "    .dataframe tbody tr th:only-of-type {\n",
       "        vertical-align: middle;\n",
       "    }\n",
       "\n",
       "    .dataframe tbody tr th {\n",
       "        vertical-align: top;\n",
       "    }\n",
       "\n",
       "    .dataframe thead th {\n",
       "        text-align: right;\n",
       "    }\n",
       "</style>\n",
       "<table border=\"1\" class=\"dataframe\">\n",
       "  <thead>\n",
       "    <tr style=\"text-align: right;\">\n",
       "      <th></th>\n",
       "      <th>City</th>\n",
       "      <th>Lat</th>\n",
       "      <th>Long</th>\n",
       "      <th>Max Temp</th>\n",
       "      <th>Humidity</th>\n",
       "      <th>Cloudiness</th>\n",
       "      <th>Wind Speed</th>\n",
       "      <th>Country</th>\n",
       "      <th>Datetime</th>\n",
       "    </tr>\n",
       "  </thead>\n",
       "  <tbody>\n",
       "    <tr>\n",
       "      <th>0</th>\n",
       "      <td>Nanortalik</td>\n",
       "      <td>60.1432</td>\n",
       "      <td>-45.2371</td>\n",
       "      <td>33.69</td>\n",
       "      <td>69</td>\n",
       "      <td>100</td>\n",
       "      <td>1.30</td>\n",
       "      <td>GL</td>\n",
       "      <td>1621747565</td>\n",
       "    </tr>\n",
       "    <tr>\n",
       "      <th>1</th>\n",
       "      <td>George Town</td>\n",
       "      <td>5.4112</td>\n",
       "      <td>100.3354</td>\n",
       "      <td>91.35</td>\n",
       "      <td>66</td>\n",
       "      <td>20</td>\n",
       "      <td>8.05</td>\n",
       "      <td>MY</td>\n",
       "      <td>1621747389</td>\n",
       "    </tr>\n",
       "    <tr>\n",
       "      <th>2</th>\n",
       "      <td>George Town</td>\n",
       "      <td>5.4112</td>\n",
       "      <td>100.3354</td>\n",
       "      <td>91.35</td>\n",
       "      <td>66</td>\n",
       "      <td>20</td>\n",
       "      <td>8.05</td>\n",
       "      <td>MY</td>\n",
       "      <td>1621747389</td>\n",
       "    </tr>\n",
       "    <tr>\n",
       "      <th>3</th>\n",
       "      <td>Qaanaaq</td>\n",
       "      <td>77.4840</td>\n",
       "      <td>-69.3632</td>\n",
       "      <td>18.14</td>\n",
       "      <td>76</td>\n",
       "      <td>82</td>\n",
       "      <td>6.26</td>\n",
       "      <td>GL</td>\n",
       "      <td>1621747357</td>\n",
       "    </tr>\n",
       "    <tr>\n",
       "      <th>5</th>\n",
       "      <td>Nanortalik</td>\n",
       "      <td>60.1432</td>\n",
       "      <td>-45.2371</td>\n",
       "      <td>33.69</td>\n",
       "      <td>69</td>\n",
       "      <td>100</td>\n",
       "      <td>1.30</td>\n",
       "      <td>GL</td>\n",
       "      <td>1621747565</td>\n",
       "    </tr>\n",
       "  </tbody>\n",
       "</table>\n",
       "</div>"
      ],
      "text/plain": [
       "          City      Lat      Long  Max Temp  Humidity  Cloudiness  Wind Speed  \\\n",
       "0   Nanortalik  60.1432  -45.2371     33.69        69         100        1.30   \n",
       "1  George Town   5.4112  100.3354     91.35        66          20        8.05   \n",
       "2  George Town   5.4112  100.3354     91.35        66          20        8.05   \n",
       "3      Qaanaaq  77.4840  -69.3632     18.14        76          82        6.26   \n",
       "5   Nanortalik  60.1432  -45.2371     33.69        69         100        1.30   \n",
       "\n",
       "  Country    Datetime  \n",
       "0      GL  1621747565  \n",
       "1      MY  1621747389  \n",
       "2      MY  1621747389  \n",
       "3      GL  1621747357  \n",
       "5      GL  1621747565  "
      ]
     },
     "execution_count": 160,
     "metadata": {},
     "output_type": "execute_result"
    }
   ],
   "source": [
    "north_df = data_df.loc[data_df[\"Lat\"]>0,:]\n",
    "north_df.head()"
   ]
  },
  {
   "cell_type": "code",
   "execution_count": 161,
   "metadata": {},
   "outputs": [
    {
     "data": {
      "text/html": [
       "<div>\n",
       "<style scoped>\n",
       "    .dataframe tbody tr th:only-of-type {\n",
       "        vertical-align: middle;\n",
       "    }\n",
       "\n",
       "    .dataframe tbody tr th {\n",
       "        vertical-align: top;\n",
       "    }\n",
       "\n",
       "    .dataframe thead th {\n",
       "        text-align: right;\n",
       "    }\n",
       "</style>\n",
       "<table border=\"1\" class=\"dataframe\">\n",
       "  <thead>\n",
       "    <tr style=\"text-align: right;\">\n",
       "      <th></th>\n",
       "      <th>City</th>\n",
       "      <th>Lat</th>\n",
       "      <th>Long</th>\n",
       "      <th>Max Temp</th>\n",
       "      <th>Humidity</th>\n",
       "      <th>Cloudiness</th>\n",
       "      <th>Wind Speed</th>\n",
       "      <th>Country</th>\n",
       "      <th>Datetime</th>\n",
       "    </tr>\n",
       "  </thead>\n",
       "  <tbody>\n",
       "    <tr>\n",
       "      <th>4</th>\n",
       "      <td>Hermanus</td>\n",
       "      <td>-34.4187</td>\n",
       "      <td>19.2345</td>\n",
       "      <td>59.90</td>\n",
       "      <td>50</td>\n",
       "      <td>32</td>\n",
       "      <td>7.65</td>\n",
       "      <td>ZA</td>\n",
       "      <td>1621747365</td>\n",
       "    </tr>\n",
       "    <tr>\n",
       "      <th>8</th>\n",
       "      <td>Busselton</td>\n",
       "      <td>-33.6500</td>\n",
       "      <td>115.3333</td>\n",
       "      <td>54.09</td>\n",
       "      <td>81</td>\n",
       "      <td>88</td>\n",
       "      <td>20.87</td>\n",
       "      <td>AU</td>\n",
       "      <td>1621747363</td>\n",
       "    </tr>\n",
       "    <tr>\n",
       "      <th>9</th>\n",
       "      <td>Ushuaia</td>\n",
       "      <td>-54.8000</td>\n",
       "      <td>-68.3000</td>\n",
       "      <td>35.26</td>\n",
       "      <td>93</td>\n",
       "      <td>90</td>\n",
       "      <td>1.14</td>\n",
       "      <td>AR</td>\n",
       "      <td>1621747268</td>\n",
       "    </tr>\n",
       "    <tr>\n",
       "      <th>10</th>\n",
       "      <td>Cape Town</td>\n",
       "      <td>-33.9258</td>\n",
       "      <td>18.4232</td>\n",
       "      <td>60.12</td>\n",
       "      <td>41</td>\n",
       "      <td>0</td>\n",
       "      <td>4.36</td>\n",
       "      <td>ZA</td>\n",
       "      <td>1621747195</td>\n",
       "    </tr>\n",
       "    <tr>\n",
       "      <th>11</th>\n",
       "      <td>Padang</td>\n",
       "      <td>-0.9492</td>\n",
       "      <td>100.3543</td>\n",
       "      <td>87.85</td>\n",
       "      <td>63</td>\n",
       "      <td>47</td>\n",
       "      <td>6.08</td>\n",
       "      <td>ID</td>\n",
       "      <td>1621747433</td>\n",
       "    </tr>\n",
       "  </tbody>\n",
       "</table>\n",
       "</div>"
      ],
      "text/plain": [
       "         City      Lat      Long  Max Temp  Humidity  Cloudiness  Wind Speed  \\\n",
       "4    Hermanus -34.4187   19.2345     59.90        50          32        7.65   \n",
       "8   Busselton -33.6500  115.3333     54.09        81          88       20.87   \n",
       "9     Ushuaia -54.8000  -68.3000     35.26        93          90        1.14   \n",
       "10  Cape Town -33.9258   18.4232     60.12        41           0        4.36   \n",
       "11     Padang  -0.9492  100.3543     87.85        63          47        6.08   \n",
       "\n",
       "   Country    Datetime  \n",
       "4       ZA  1621747365  \n",
       "8       AU  1621747363  \n",
       "9       AR  1621747268  \n",
       "10      ZA  1621747195  \n",
       "11      ID  1621747433  "
      ]
     },
     "execution_count": 161,
     "metadata": {},
     "output_type": "execute_result"
    }
   ],
   "source": [
    "south_df = data_df.loc[data_df[\"Lat\"]<=0,:]\n",
    "south_df.head()"
   ]
  },
  {
   "cell_type": "markdown",
   "metadata": {},
   "source": [
    "####  Northern Hemisphere - Max Temp vs. Latitude Linear Regression"
   ]
  },
  {
   "cell_type": "code",
   "execution_count": 221,
   "metadata": {},
   "outputs": [
    {
     "data": {
      "image/png": "[encoded data removed]",
      "text/plain": [
       "<Figure size 432x288 with 1 Axes>"
      ]
     },
     "metadata": {
      "needs_background": "light"
     },
     "output_type": "display_data"
    },
    {
     "name": "stdout",
     "output_type": "stream",
     "text": [
      "The r^2 value is 0.748\n"
     ]
    }
   ],
   "source": [
    "(slope,intercept,rvalue,pvalue,stderr) = linregress(north_df[\"Lat\"],north_df[\"Max Temp\"])\n",
    "regress_values_temp = slope * north_df[\"Lat\"] + intercept\n",
    "plt.plot(north_df[\"Lat\"],regress_values_temp,color=\"red\")\n",
    "plt.annotate(f\"y = {slope.round(2)}x + {intercept.round(2)}\",(5,42),color=\"red\",size=14)\n",
    "\n",
    "north_temp_plot = plt.scatter(north_df[\"Lat\"],north_df[\"Max Temp\"])\n",
    "\n",
    "plt.xlabel(\"Latitude\")\n",
    "plt.ylabel(\"Max Temperature (F)\")\n",
    "plt.title(\"City Latitude vs Max Temperature 5/23/21\",size=14)\n",
    "plt.xlim(0,85)\n",
    "plt.grid()\n",
    "\n",
    "plt.savefig(\"Lat_Temp_North.png\")\n",
    "plt.show(north_temp_plot)\n",
    "\n",
    "print(f\"The r^2 value is {(rvalue**2).round(3)}\")"
   ]
  },
  {
   "cell_type": "markdown",
   "metadata": {},
   "source": [
    "####  Southern Hemisphere - Max Temp vs. Latitude Linear Regression"
   ]
  },
  {
   "cell_type": "code",
   "execution_count": 222,
   "metadata": {},
   "outputs": [
    {
     "data": {
      "image/png": "[encoded data removed]",
      "text/plain": [
       "<Figure size 432x288 with 1 Axes>"
      ]
     },
     "metadata": {
      "needs_background": "light"
     },
     "output_type": "display_data"
    },
    {
     "name": "stdout",
     "output_type": "stream",
     "text": [
      "The r^2 value is 0.739\n"
     ]
    }
   ],
   "source": [
    "(slope,intercept,rvalue,pvalue,stderr) = linregress(south_df[\"Lat\"],south_df[\"Max Temp\"])\n",
    "regress_values_temp = slope * south_df[\"Lat\"] + intercept\n",
    "plt.plot(south_df[\"Lat\"],regress_values_temp,color=\"red\")\n",
    "plt.annotate(f\"y = {slope.round(2)}x + {intercept.round(2)}\",(-70,82),color=\"red\",size=14)\n",
    "\n",
    "south_temp_plot = plt.scatter(south_df[\"Lat\"],south_df[\"Max Temp\"])\n",
    "\n",
    "plt.xlabel(\"Latitude\")\n",
    "plt.ylabel(\"Max Temperature (F)\")\n",
    "plt.title(\"City Latitude vs Max Temperature 5/23/21\",size=14)\n",
    "plt.xlim(-85,0)\n",
    "plt.grid()\n",
    "\n",
    "plt.savefig(\"Lat_Temp_South.png\")\n",
    "plt.show(south_temp_plot)\n",
    "\n",
    "print(f\"The r^2 value is {(rvalue**2).round(3)}\")\n",
    "\n",
    "# At r^2 = 0.74, each of the plots, both north and south, have a high correlation.\n",
    "# At 0.8 and 0.84, the slope of each regression model are somewhat similar, as expected."
   ]
  },
  {
   "cell_type": "markdown",
   "metadata": {},
   "source": [
    "####  Northern Hemisphere - Humidity (%) vs. Latitude Linear Regression"
   ]
  },
  {
   "cell_type": "code",
   "execution_count": 223,
   "metadata": {},
   "outputs": [
    {
     "data": {
      "image/png": "[encoded data removed]",
      "text/plain": [
       "<Figure size 432x288 with 1 Axes>"
      ]
     },
     "metadata": {
      "needs_background": "light"
     },
     "output_type": "display_data"
    },
    {
     "name": "stdout",
     "output_type": "stream",
     "text": [
      "The r^2 value is 0.035\n"
     ]
    }
   ],
   "source": [
    "(slope,intercept,rvalue,pvalue,stderr) = linregress(north_df[\"Lat\"],north_df[\"Humidity\"])\n",
    "regress_values_temp = slope * north_df[\"Lat\"] + intercept\n",
    "plt.plot(north_df[\"Lat\"],regress_values_temp,color=\"red\")\n",
    "plt.annotate(f\"y = {slope.round(2)}x + {intercept.round(2)}\",(48,8),color=\"red\",size=14)\n",
    "\n",
    "north_humidity_plot = plt.scatter(north_df[\"Lat\"],north_df[\"Humidity\"],facecolors=\"purple\")\n",
    "plt.xlabel(\"Latitude\")\n",
    "plt.ylabel(\"Humidity %\")\n",
    "plt.title(\"City Latitude vs Humidity 5/23/21\",size=14)\n",
    "plt.xlim(0,85)\n",
    "plt.grid()\n",
    "\n",
    "plt.savefig(\"Lat_Humidity_North.png\")\n",
    "plt.show(north_humidity_plot)\n",
    "\n",
    "print(f\"The r^2 value is {(rvalue**2).round(3)}\")"
   ]
  },
  {
   "cell_type": "markdown",
   "metadata": {},
   "source": [
    "####  Southern Hemisphere - Humidity (%) vs. Latitude Linear Regression"
   ]
  },
  {
   "cell_type": "code",
   "execution_count": 224,
   "metadata": {},
   "outputs": [
    {
     "data": {
      "image/png": "[encoded data removed]",
      "text/plain": [
       "<Figure size 432x288 with 1 Axes>"
      ]
     },
     "metadata": {
      "needs_background": "light"
     },
     "output_type": "display_data"
    },
    {
     "name": "stdout",
     "output_type": "stream",
     "text": [
      "The r^2 value is 0.043\n"
     ]
    }
   ],
   "source": [
    "(slope,intercept,rvalue,pvalue,stderr) = linregress(south_df[\"Lat\"],south_df[\"Humidity\"])\n",
    "regress_values_temp = slope * south_df[\"Lat\"] + intercept\n",
    "plt.plot(south_df[\"Lat\"],regress_values_temp,color=\"red\")\n",
    "plt.annotate(f\"y = {slope.round(2)}x + {intercept.round(2)}\",(48,8),color=\"red\",size=14)\n",
    "\n",
    "south_humidity_plot = plt.scatter(south_df[\"Lat\"],south_df[\"Humidity\"],facecolors=\"purple\")\n",
    "plt.xlabel(\"Latitude\")\n",
    "plt.ylabel(\"Humidity %\")\n",
    "plt.title(\"City Latitude vs Humidity 5/23/21\",size=14)\n",
    "plt.xlim(-85,0)\n",
    "plt.grid()\n",
    "\n",
    "plt.savefig(\"Lat_Humidity_South.png\")\n",
    "plt.show(south_humidity_plot)\n",
    "\n",
    "print(f\"The r^2 value is {(rvalue**2).round(3)}\")\n",
    "\n",
    "# At about 0.04, neither plot has a high correlation.\n",
    "# There is much more data for the northern than southern hemisphere."
   ]
  },
  {
   "cell_type": "markdown",
   "metadata": {},
   "source": [
    "####  Northern Hemisphere - Cloudiness (%) vs. Latitude Linear Regression"
   ]
  },
  {
   "cell_type": "code",
   "execution_count": 225,
   "metadata": {},
   "outputs": [
    {
     "data": {
      "image/png": "[encoded data removed]",
      "text/plain": [
       "<Figure size 432x288 with 1 Axes>"
      ]
     },
     "metadata": {
      "needs_background": "light"
     },
     "output_type": "display_data"
    },
    {
     "name": "stdout",
     "output_type": "stream",
     "text": [
      "The r^2 value is 0.025\n"
     ]
    }
   ],
   "source": [
    "(slope,intercept,rvalue,pvalue,stderr) = linregress(north_df[\"Lat\"],north_df[\"Cloudiness\"])\n",
    "regress_values_temp = slope * north_df[\"Lat\"] + intercept\n",
    "plt.plot(north_df[\"Lat\"],regress_values_temp,color=\"red\")\n",
    "plt.annotate(f\"y = {slope.round(2)}x + {intercept.round(2)}\",(48,46),color=\"red\",size=14)\n",
    "\n",
    "north_cloud_plot = plt.scatter(north_df[\"Lat\"],north_df[\"Cloudiness\"],facecolors=\"gray\",edgecolors=\"black\")\n",
    "plt.xlabel(\"Latitude\")\n",
    "plt.ylabel(\"Cloudiness %\")\n",
    "plt.title(\"City Latitude vs Cloudiness 5/23/21\",size=14)\n",
    "plt.xlim(0,85)\n",
    "plt.grid()\n",
    "\n",
    "plt.savefig(\"Lat_Cloudiness_North.png\")\n",
    "plt.show(north_cloud_plot)\n",
    "\n",
    "print(f\"The r^2 value is {(rvalue**2).round(3)}\")"
   ]
  },
  {
   "cell_type": "markdown",
   "metadata": {},
   "source": [
    "####  Southern Hemisphere - Cloudiness (%) vs. Latitude Linear Regression"
   ]
  },
  {
   "cell_type": "code",
   "execution_count": 226,
   "metadata": {},
   "outputs": [
    {
     "data": {
      "image/png": "[encoded data removed]",
      "text/plain": [
       "<Figure size 432x288 with 1 Axes>"
      ]
     },
     "metadata": {
      "needs_background": "light"
     },
     "output_type": "display_data"
    },
    {
     "name": "stdout",
     "output_type": "stream",
     "text": [
      "The r^2 value is 0.00015\n"
     ]
    }
   ],
   "source": [
    "(slope,intercept,rvalue,pvalue,stderr) = linregress(south_df[\"Lat\"],south_df[\"Cloudiness\"])\n",
    "regress_values_temp = slope * south_df[\"Lat\"] + intercept\n",
    "plt.plot(south_df[\"Lat\"],regress_values_temp,color=\"red\")\n",
    "plt.annotate(f\"y = {slope.round(2)}x + {intercept.round(2)}\",(-80,54),color=\"red\",size=14)\n",
    "\n",
    "south_cloud_plot = plt.scatter(south_df[\"Lat\"],south_df[\"Cloudiness\"],facecolors=\"gray\",edgecolors=\"black\")\n",
    "plt.xlabel(\"Latitude\")\n",
    "plt.ylabel(\"Cloudiness %\")\n",
    "plt.title(\"City Latitude vs Cloudiness 5/23/21\",size=14)\n",
    "plt.xlim(-85,0)\n",
    "plt.grid()\n",
    "\n",
    "plt.savefig(\"Lat_Cloudiness_South.png\")\n",
    "plt.show(south_cloud_plot)\n",
    "\n",
    "print(f\"The r^2 value is {(rvalue**2).round(5)}\")\n",
    "\n",
    "# At r^2 = .025 and .0002, neither plot is linear.\n",
    "# Most cities are either mostly cloudy or mostly sunny."
   ]
  },
  {
   "cell_type": "markdown",
   "metadata": {},
   "source": [
    "####  Northern Hemisphere - Wind Speed (mph) vs. Latitude Linear Regression"
   ]
  },
  {
   "cell_type": "code",
   "execution_count": 227,
   "metadata": {},
   "outputs": [
    {
     "data": {
      "image/png": "[encoded data removed]",
      "text/plain": [
       "<Figure size 432x288 with 1 Axes>"
      ]
     },
     "metadata": {
      "needs_background": "light"
     },
     "output_type": "display_data"
    },
    {
     "name": "stdout",
     "output_type": "stream",
     "text": [
      "The r^2 value is 0.00433\n"
     ]
    }
   ],
   "source": [
    "(slope,intercept,rvalue,pvalue,stderr) = linregress(north_df[\"Lat\"],north_df[\"Wind Speed\"])\n",
    "regress_values_temp = slope * north_df[\"Lat\"] + intercept\n",
    "plt.plot(north_df[\"Lat\"],regress_values_temp,color=\"red\")\n",
    "plt.annotate(f\"y = {slope.round(2)}x + {intercept.round(2)}\",(2,21),color=\"red\",size=14)\n",
    "\n",
    "north_wind_plot = plt.scatter(north_df[\"Lat\"],north_df[\"Wind Speed\"],facecolors=\"white\",edgecolors=\"blue\")\n",
    "plt.xlabel(\"Latitude\")\n",
    "plt.ylabel(\"Wind Speed mph\")\n",
    "plt.title(\"City Latitude vs Wind Speed 5/23/21\",size=14)\n",
    "plt.xlim(0,85)\n",
    "plt.grid()\n",
    "\n",
    "plt.savefig(\"Lat_Wind_North.png\")\n",
    "plt.show(north_wind_plot)\n",
    "\n",
    "print(f\"The r^2 value is {(rvalue**2).round(5)}\")"
   ]
  },
  {
   "cell_type": "markdown",
   "metadata": {},
   "source": [
    "####  Southern Hemisphere - Wind Speed (mph) vs. Latitude Linear Regression"
   ]
  },
  {
   "cell_type": "code",
   "execution_count": 228,
   "metadata": {},
   "outputs": [
    {
     "data": {
      "image/png": "[encoded data removed]",
      "text/plain": [
       "<Figure size 432x288 with 1 Axes>"
      ]
     },
     "metadata": {
      "needs_background": "light"
     },
     "output_type": "display_data"
    },
    {
     "name": "stdout",
     "output_type": "stream",
     "text": [
      "The r^2 value is 0.05493\n"
     ]
    }
   ],
   "source": [
    "(slope,intercept,rvalue,pvalue,stderr) = linregress(south_df[\"Lat\"],south_df[\"Wind Speed\"])\n",
    "regress_values_temp = slope * south_df[\"Lat\"] + intercept\n",
    "plt.plot(south_df[\"Lat\"],regress_values_temp,color=\"red\")\n",
    "plt.annotate(f\"y = {slope.round(2)}x + {intercept.round(2)}\",(-70,21),color=\"red\",size=14)\n",
    "\n",
    "south_wind_plot = plt.scatter(south_df[\"Lat\"],south_df[\"Wind Speed\"],facecolors=\"white\",edgecolors=\"blue\")\n",
    "plt.xlabel(\"Latitude\")\n",
    "plt.ylabel(\"Wind Speed mph\")\n",
    "plt.title(\"City Latitude vs Wind Speed 5/23/21\",size=14)\n",
    "plt.xlim(-85,0)\n",
    "plt.grid()\n",
    "\n",
    "plt.savefig(\"Lat_Wind_South.png\")\n",
    "plt.show(south_wind_plot)\n",
    "\n",
    "print(f\"The r^2 value is {(rvalue**2).round(5)}\")\n",
    "\n",
    "# These graphs are also mostly non-linear, as expected.\n",
    "# Wind speed does not correlate with latitude, so any correlation is accidental."
   ]
  },
  {
   "cell_type": "code",
   "execution_count": null,
   "metadata": {},
   "outputs": [],
   "source": []
  }
 ],
 "metadata": {
  "anaconda-cloud": {},
  "kernel_info": {
   "name": "python3"
  },
  "kernelspec": {
   "display_name": "Python [conda env:root] *",
   "language": "python",
   "name": "conda-root-py"
  },
  "language_info": {
   "codemirror_mode": {
    "name": "ipython",
    "version": 3
   },
   "file_extension": ".py",
   "mimetype": "text/x-python",
   "name": "python",
   "nbconvert_exporter": "python",
   "pygments_lexer": "ipython3",
   "version": "3.8.5"
  },
  "latex_envs": {
   "LaTeX_envs_menu_present": true,
   "autoclose": false,
   "autocomplete": true,
   "bibliofile": "biblio.bib",
   "cite_by": "apalike",
   "current_citInitial": 1,
   "eqLabelWithNumbers": true,
   "eqNumInitial": 1,
   "hotkeys": {
    "equation": "Ctrl-E",
    "itemize": "Ctrl-I"
   },
   "labels_anchors": false,
   "latex_user_defs": false,
   "report_style_numbering": false,
   "user_envs_cfg": false
  },
  "nteract": {
   "version": "0.12.3"
  }
 },
 "nbformat": 4,
 "nbformat_minor": 2
}
